{
 "cells": [
  {
   "cell_type": "markdown",
   "metadata": {},
   "source": [
    "# Data modelling"
   ]
  },
  {
   "cell_type": "markdown",
   "metadata": {},
   "source": [
    "## Summary:\n",
    "\n",
    "At this stage, the goal is to fit different predictive models (increasing in complexity) to try to predict NPP from all the bioclimatic variables and the latitude data. This is therefore a **regression** exercise.  \n",
    "The idea is to use the metrics to compare the performance of each model between them, as well as with the results obtained using the Miami Model.  \n",
    "The evaluation metrics will be:\n",
    "- PMAE (percentage mean absolute error)\n",
    "- RMSE (root mean squared error)\n",
    "\n",
    "PMAE will be considered as the main metric, but RMSE will also be taken into consideration."
   ]
  },
  {
   "cell_type": "markdown",
   "metadata": {},
   "source": [
    "### Load libraries\n",
    "`raster` for spatial data manipulation (and also parallelization options)  \n",
    "`caret` as the main library for machine learning models  \n",
    "`tidyverse` for data manipulation  \n",
    "`randomForest` for Random Forest algorithms  "
   ]
  },
  {
   "cell_type": "code",
   "execution_count": 1,
   "metadata": {
    "collapsed": true
   },
   "outputs": [
    {
     "name": "stderr",
     "output_type": "stream",
     "text": [
      "Warning message:\n",
      "\"package 'raster' was built under R version 3.5.3\"\n",
      "Loading required package: sp\n",
      "\n",
      "Warning message:\n",
      "\"package 'sp' was built under R version 3.5.3\"\n",
      "Warning message:\n",
      "\"package 'caret' was built under R version 3.5.3\"\n",
      "Loading required package: lattice\n",
      "\n",
      "Loading required package: ggplot2\n",
      "\n",
      "Warning message:\n",
      "\"package 'ggplot2' was built under R version 3.5.3\"\n",
      "Warning message:\n",
      "\"package 'tidyverse' was built under R version 3.5.3\"\n",
      "-- \u001b[1mAttaching packages\u001b[22m --------------------------------------- tidyverse 1.3.0 --\n",
      "\n",
      "\u001b[32mv\u001b[39m \u001b[34mtibble \u001b[39m 3.0.1     \u001b[32mv\u001b[39m \u001b[34mdplyr  \u001b[39m 0.8.5\n",
      "\u001b[32mv\u001b[39m \u001b[34mtidyr  \u001b[39m 1.0.0     \u001b[32mv\u001b[39m \u001b[34mstringr\u001b[39m 1.4.0\n",
      "\u001b[32mv\u001b[39m \u001b[34mreadr  \u001b[39m 1.3.1     \u001b[32mv\u001b[39m \u001b[34mforcats\u001b[39m 0.4.0\n",
      "\u001b[32mv\u001b[39m \u001b[34mpurrr  \u001b[39m 0.3.3     \n",
      "\n",
      "Warning message:\n",
      "\"package 'tibble' was built under R version 3.5.3\"\n",
      "Warning message:\n",
      "\"package 'tidyr' was built under R version 3.5.3\"\n",
      "Warning message:\n",
      "\"package 'readr' was built under R version 3.5.3\"\n",
      "Warning message:\n",
      "\"package 'purrr' was built under R version 3.5.3\"\n",
      "Warning message:\n",
      "\"package 'dplyr' was built under R version 3.5.3\"\n",
      "Warning message:\n",
      "\"package 'stringr' was built under R version 3.5.3\"\n",
      "Warning message:\n",
      "\"package 'forcats' was built under R version 3.5.3\"\n",
      "-- \u001b[1mConflicts\u001b[22m ------------------------------------------ tidyverse_conflicts() --\n",
      "\u001b[31mx\u001b[39m \u001b[34mtidyr\u001b[39m::\u001b[32mextract()\u001b[39m masks \u001b[34mraster\u001b[39m::extract()\n",
      "\u001b[31mx\u001b[39m \u001b[34mdplyr\u001b[39m::\u001b[32mfilter()\u001b[39m  masks \u001b[34mstats\u001b[39m::filter()\n",
      "\u001b[31mx\u001b[39m \u001b[34mdplyr\u001b[39m::\u001b[32mlag()\u001b[39m     masks \u001b[34mstats\u001b[39m::lag()\n",
      "\u001b[31mx\u001b[39m \u001b[34mpurrr\u001b[39m::\u001b[32mlift()\u001b[39m    masks \u001b[34mcaret\u001b[39m::lift()\n",
      "\u001b[31mx\u001b[39m \u001b[34mdplyr\u001b[39m::\u001b[32mselect()\u001b[39m  masks \u001b[34mraster\u001b[39m::select()\n",
      "\n",
      "Warning message:\n",
      "\"package 'randomForest' was built under R version 3.5.3\"\n",
      "randomForest 4.6-14\n",
      "\n",
      "Type rfNews() to see new features/changes/bug fixes.\n",
      "\n",
      "\n",
      "Attaching package: 'randomForest'\n",
      "\n",
      "\n",
      "The following object is masked from 'package:dplyr':\n",
      "\n",
      "    combine\n",
      "\n",
      "\n",
      "The following object is masked from 'package:ggplot2':\n",
      "\n",
      "    margin\n",
      "\n",
      "\n"
     ]
    }
   ],
   "source": [
    "library(raster)\n",
    "library(caret)\n",
    "library(tidyverse)\n",
    "library(randomForest)\n"
   ]
  },
  {
   "cell_type": "markdown",
   "metadata": {},
   "source": [
    "### Load data"
   ]
  },
  {
   "cell_type": "markdown",
   "metadata": {},
   "source": [
    "Load the config with the main paths of the project and common parameters"
   ]
  },
  {
   "cell_type": "code",
   "execution_count": 2,
   "metadata": {},
   "outputs": [],
   "source": [
    "source(\"D:/TFM Data Science/config.R\")\n"
   ]
  },
  {
   "cell_type": "markdown",
   "metadata": {},
   "source": [
    "Load the dataset"
   ]
  },
  {
   "cell_type": "code",
   "execution_count": 3,
   "metadata": {},
   "outputs": [
    {
     "data": {
      "text/html": [
       "<table>\n",
       "<caption>A data.frame: 6 × 23</caption>\n",
       "<thead>\n",
       "\t<tr><th scope=col>x</th><th scope=col>y</th><th scope=col>NPP</th><th scope=col>Miami_NPP</th><th scope=col>bio_1</th><th scope=col>bio_10</th><th scope=col>bio_11</th><th scope=col>bio_12</th><th scope=col>bio_13</th><th scope=col>bio_14</th><th scope=col>...</th><th scope=col>bio_18</th><th scope=col>bio_19</th><th scope=col>bio_2</th><th scope=col>bio_3</th><th scope=col>bio_4</th><th scope=col>bio_5</th><th scope=col>bio_6</th><th scope=col>bio_7</th><th scope=col>bio_8</th><th scope=col>bio_9</th></tr>\n",
       "\t<tr><th scope=col>&lt;dbl&gt;</th><th scope=col>&lt;dbl&gt;</th><th scope=col>&lt;dbl&gt;</th><th scope=col>&lt;dbl&gt;</th><th scope=col>&lt;dbl&gt;</th><th scope=col>&lt;dbl&gt;</th><th scope=col>&lt;dbl&gt;</th><th scope=col>&lt;int&gt;</th><th scope=col>&lt;int&gt;</th><th scope=col>&lt;int&gt;</th><th scope=col>...</th><th scope=col>&lt;int&gt;</th><th scope=col>&lt;int&gt;</th><th scope=col>&lt;dbl&gt;</th><th scope=col>&lt;dbl&gt;</th><th scope=col>&lt;dbl&gt;</th><th scope=col>&lt;dbl&gt;</th><th scope=col>&lt;dbl&gt;</th><th scope=col>&lt;dbl&gt;</th><th scope=col>&lt;dbl&gt;</th><th scope=col>&lt;dbl&gt;</th></tr>\n",
       "</thead>\n",
       "<tbody>\n",
       "\t<tr><td> 46.95833</td><td> 33.95833</td><td>  67.57400</td><td> 823.1034</td><td>13.771042</td><td>25.048666</td><td>  2.87500</td><td>483</td><td> 95</td><td> 1</td><td>...</td><td>  4</td><td>216</td><td>14.734917</td><td>37.48008</td><td> 904.1935</td><td>35.660</td><td> -3.654</td><td>39.314</td><td> 3.674167</td><td> 24.691500</td></tr>\n",
       "\t<tr><td>-68.37500</td><td> 62.62500</td><td>  26.51500</td><td> 249.1695</td><td>-9.130459</td><td> 6.202167</td><td>-24.35150</td><td>426</td><td> 66</td><td>19</td><td>...</td><td>171</td><td> 63</td><td> 6.868083</td><td>16.24774</td><td>1251.1346</td><td>12.443</td><td>-29.828</td><td>42.271</td><td> 5.645167</td><td>-20.405167</td></tr>\n",
       "\t<tr><td> 76.62500</td><td> 56.29167</td><td> 335.03201</td><td> 652.9854</td><td> 0.299625</td><td>16.454500</td><td>-16.57317</td><td>423</td><td> 62</td><td>14</td><td>...</td><td>176</td><td> 65</td><td>10.541417</td><td>22.56490</td><td>1347.4503</td><td>24.651</td><td>-22.065</td><td>46.716</td><td>16.454500</td><td> -8.005834</td></tr>\n",
       "\t<tr><td>142.20833</td><td>-19.45833</td><td> 165.92000</td><td>1030.7825</td><td>26.169043</td><td>30.409166</td><td> 20.47783</td><td>634</td><td>175</td><td> 3</td><td>...</td><td>324</td><td> 16</td><td>14.481916</td><td>55.17971</td><td> 409.5968</td><td>37.810</td><td> 11.565</td><td>26.245</td><td>30.185333</td><td> 22.099001</td></tr>\n",
       "\t<tr><td>110.04167</td><td> 44.12500</td><td>  67.82632</td><td> 207.6032</td><td> 5.249708</td><td>22.711500</td><td>-13.89867</td><td>108</td><td> 32</td><td> 1</td><td>...</td><td> 74</td><td>  5</td><td>13.160583</td><td>24.98687</td><td>1480.3439</td><td>30.300</td><td>-22.370</td><td>52.670</td><td>22.711500</td><td>-13.898666</td></tr>\n",
       "\t<tr><td>-64.95833</td><td>-25.29167</td><td>1264.48096</td><td>1092.5557</td><td>18.808666</td><td>23.416166</td><td> 13.19567</td><td>682</td><td>148</td><td> 3</td><td>...</td><td>399</td><td> 13</td><td>11.883000</td><td>49.57033</td><td> 420.2774</td><td>29.430</td><td>  5.458</td><td>23.972</td><td>22.615000</td><td> 13.195666</td></tr>\n",
       "</tbody>\n",
       "</table>\n"
      ],
      "text/latex": [
       "A data.frame: 6 × 23\n",
       "\\begin{tabular}{r|lllllllllllllllllllllll}\n",
       " x & y & NPP & Miami\\_NPP & bio\\_1 & bio\\_10 & bio\\_11 & bio\\_12 & bio\\_13 & bio\\_14 & bio\\_15 & bio\\_16 & bio\\_17 & bio\\_18 & bio\\_19 & bio\\_2 & bio\\_3 & bio\\_4 & bio\\_5 & bio\\_6 & bio\\_7 & bio\\_8 & bio\\_9\\\\\n",
       " <dbl> & <dbl> & <dbl> & <dbl> & <dbl> & <dbl> & <dbl> & <int> & <int> & <int> & <dbl> & <int> & <int> & <int> & <int> & <dbl> & <dbl> & <dbl> & <dbl> & <dbl> & <dbl> & <dbl> & <dbl>\\\\\n",
       "\\hline\n",
       "\t  46.95833 &  33.95833 &   67.57400 &  823.1034 & 13.771042 & 25.048666 &   2.87500 & 483 &  95 &  1 &  83.80707 & 239 &  3 &   4 & 216 & 14.734917 & 37.48008 &  904.1935 & 35.660 &  -3.654 & 39.314 &  3.674167 &  24.691500\\\\\n",
       "\t -68.37500 &  62.62500 &   26.51500 &  249.1695 & -9.130459 &  6.202167 & -24.35150 & 426 &  66 & 19 &  46.73623 & 181 & 59 & 171 &  63 &  6.868083 & 16.24774 & 1251.1346 & 12.443 & -29.828 & 42.271 &  5.645167 & -20.405167\\\\\n",
       "\t  76.62500 &  56.29167 &  335.03201 &  652.9854 &  0.299625 & 16.454500 & -16.57317 & 423 &  62 & 14 &  45.55902 & 176 & 52 & 176 &  65 & 10.541417 & 22.56490 & 1347.4503 & 24.651 & -22.065 & 46.716 & 16.454500 &  -8.005834\\\\\n",
       "\t 142.20833 & -19.45833 &  165.92000 & 1030.7825 & 26.169043 & 30.409166 &  20.47783 & 634 & 175 &  3 & 115.83793 & 433 & 12 & 324 &  16 & 14.481916 & 55.17971 &  409.5968 & 37.810 &  11.565 & 26.245 & 30.185333 &  22.099001\\\\\n",
       "\t 110.04167 &  44.12500 &   67.82632 &  207.6032 &  5.249708 & 22.711500 & -13.89867 & 108 &  32 &  1 & 106.00172 &  74 &  5 &  74 &   5 & 13.160583 & 24.98687 & 1480.3439 & 30.300 & -22.370 & 52.670 & 22.711500 & -13.898666\\\\\n",
       "\t -64.95833 & -25.29167 & 1264.48096 & 1092.5557 & 18.808666 & 23.416166 &  13.19567 & 682 & 148 &  3 &  98.62065 & 406 & 13 & 399 &  13 & 11.883000 & 49.57033 &  420.2774 & 29.430 &   5.458 & 23.972 & 22.615000 &  13.195666\\\\\n",
       "\\end{tabular}\n"
      ],
      "text/markdown": [
       "\n",
       "A data.frame: 6 × 23\n",
       "\n",
       "| x &lt;dbl&gt; | y &lt;dbl&gt; | NPP &lt;dbl&gt; | Miami_NPP &lt;dbl&gt; | bio_1 &lt;dbl&gt; | bio_10 &lt;dbl&gt; | bio_11 &lt;dbl&gt; | bio_12 &lt;int&gt; | bio_13 &lt;int&gt; | bio_14 &lt;int&gt; | ... ... | bio_18 &lt;int&gt; | bio_19 &lt;int&gt; | bio_2 &lt;dbl&gt; | bio_3 &lt;dbl&gt; | bio_4 &lt;dbl&gt; | bio_5 &lt;dbl&gt; | bio_6 &lt;dbl&gt; | bio_7 &lt;dbl&gt; | bio_8 &lt;dbl&gt; | bio_9 &lt;dbl&gt; |\n",
       "|---|---|---|---|---|---|---|---|---|---|---|---|---|---|---|---|---|---|---|---|---|\n",
       "|  46.95833 |  33.95833 |   67.57400 |  823.1034 | 13.771042 | 25.048666 |   2.87500 | 483 |  95 |  1 | ... |   4 | 216 | 14.734917 | 37.48008 |  904.1935 | 35.660 |  -3.654 | 39.314 |  3.674167 |  24.691500 |\n",
       "| -68.37500 |  62.62500 |   26.51500 |  249.1695 | -9.130459 |  6.202167 | -24.35150 | 426 |  66 | 19 | ... | 171 |  63 |  6.868083 | 16.24774 | 1251.1346 | 12.443 | -29.828 | 42.271 |  5.645167 | -20.405167 |\n",
       "|  76.62500 |  56.29167 |  335.03201 |  652.9854 |  0.299625 | 16.454500 | -16.57317 | 423 |  62 | 14 | ... | 176 |  65 | 10.541417 | 22.56490 | 1347.4503 | 24.651 | -22.065 | 46.716 | 16.454500 |  -8.005834 |\n",
       "| 142.20833 | -19.45833 |  165.92000 | 1030.7825 | 26.169043 | 30.409166 |  20.47783 | 634 | 175 |  3 | ... | 324 |  16 | 14.481916 | 55.17971 |  409.5968 | 37.810 |  11.565 | 26.245 | 30.185333 |  22.099001 |\n",
       "| 110.04167 |  44.12500 |   67.82632 |  207.6032 |  5.249708 | 22.711500 | -13.89867 | 108 |  32 |  1 | ... |  74 |   5 | 13.160583 | 24.98687 | 1480.3439 | 30.300 | -22.370 | 52.670 | 22.711500 | -13.898666 |\n",
       "| -64.95833 | -25.29167 | 1264.48096 | 1092.5557 | 18.808666 | 23.416166 |  13.19567 | 682 | 148 |  3 | ... | 399 |  13 | 11.883000 | 49.57033 |  420.2774 | 29.430 |   5.458 | 23.972 | 22.615000 |  13.195666 |\n",
       "\n"
      ],
      "text/plain": [
       "  x         y         NPP        Miami_NPP bio_1     bio_10    bio_11    bio_12\n",
       "1  46.95833  33.95833   67.57400  823.1034 13.771042 25.048666   2.87500 483   \n",
       "2 -68.37500  62.62500   26.51500  249.1695 -9.130459  6.202167 -24.35150 426   \n",
       "3  76.62500  56.29167  335.03201  652.9854  0.299625 16.454500 -16.57317 423   \n",
       "4 142.20833 -19.45833  165.92000 1030.7825 26.169043 30.409166  20.47783 634   \n",
       "5 110.04167  44.12500   67.82632  207.6032  5.249708 22.711500 -13.89867 108   \n",
       "6 -64.95833 -25.29167 1264.48096 1092.5557 18.808666 23.416166  13.19567 682   \n",
       "  bio_13 bio_14 ... bio_18 bio_19 bio_2     bio_3    bio_4     bio_5  bio_6  \n",
       "1  95     1     ...   4    216    14.734917 37.48008  904.1935 35.660  -3.654\n",
       "2  66    19     ... 171     63     6.868083 16.24774 1251.1346 12.443 -29.828\n",
       "3  62    14     ... 176     65    10.541417 22.56490 1347.4503 24.651 -22.065\n",
       "4 175     3     ... 324     16    14.481916 55.17971  409.5968 37.810  11.565\n",
       "5  32     1     ...  74      5    13.160583 24.98687 1480.3439 30.300 -22.370\n",
       "6 148     3     ... 399     13    11.883000 49.57033  420.2774 29.430   5.458\n",
       "  bio_7  bio_8     bio_9     \n",
       "1 39.314  3.674167  24.691500\n",
       "2 42.271  5.645167 -20.405167\n",
       "3 46.716 16.454500  -8.005834\n",
       "4 26.245 30.185333  22.099001\n",
       "5 52.670 22.711500 -13.898666\n",
       "6 23.972 22.615000  13.195666"
      ]
     },
     "metadata": {},
     "output_type": "display_data"
    }
   ],
   "source": [
    "points_df  <- read.csv(file.path(path_project, \"35k_data.csv\"), header = T)\n",
    "head(points_df)"
   ]
  },
  {
   "cell_type": "markdown",
   "metadata": {},
   "source": [
    "Create a dataframe for the models excluding the unused variables (latitude and Miami Model results), the NAs and values of NPP of 5 or below (to avoid near 0 or false NAs)."
   ]
  },
  {
   "cell_type": "code",
   "execution_count": 11,
   "metadata": {},
   "outputs": [
    {
     "name": "stdout",
     "output_type": "stream",
     "text": [
      "Number of final observations"
     ]
    },
    {
     "data": {
      "text/html": [
       "34634"
      ],
      "text/latex": [
       "34634"
      ],
      "text/markdown": [
       "34634"
      ],
      "text/plain": [
       "[1] 34634"
      ]
     },
     "metadata": {},
     "output_type": "display_data"
    },
    {
     "name": "stdout",
     "output_type": "stream",
     "text": [
      "Number of variables (included target)"
     ]
    },
    {
     "data": {
      "text/html": [
       "21"
      ],
      "text/latex": [
       "21"
      ],
      "text/markdown": [
       "21"
      ],
      "text/plain": [
       "[1] 21"
      ]
     },
     "metadata": {},
     "output_type": "display_data"
    }
   ],
   "source": [
    "df_modelo <- points_df %>% dplyr::select(-x, -Miami_NPP) %>% filter(NPP > 5)\n",
    "df_modelo$y <- abs(df_modelo$y)\n",
    "df_modelo <- na.omit(df_modelo)\n",
    "cat(\"Number of final observations\")\n",
    "nrow(df_modelo)\n",
    "cat(\"Number of variables (included target)\")\n",
    "ncol(df_modelo)"
   ]
  },
  {
   "cell_type": "markdown",
   "metadata": {},
   "source": [
    "Create a sample for train-test.  \n",
    "The split will be 80% train, 20% test"
   ]
  },
  {
   "cell_type": "code",
   "execution_count": 16,
   "metadata": {},
   "outputs": [],
   "source": [
    "set.seed(seed)\n",
    "sample <- sample.int(n = nrow(df_modelo), size = floor(.80*nrow(df_modelo)), replace = F)"
   ]
  },
  {
   "cell_type": "code",
   "execution_count": 17,
   "metadata": {},
   "outputs": [],
   "source": [
    "df_train <- na.omit(df_modelo[sample, ])\n",
    "df_test  <- na.omit(df_modelo[-sample, ])"
   ]
  },
  {
   "cell_type": "code",
   "execution_count": 18,
   "metadata": {},
   "outputs": [
    {
     "name": "stdout",
     "output_type": "stream",
     "text": [
      "Number of train observations"
     ]
    },
    {
     "data": {
      "text/html": [
       "27707"
      ],
      "text/latex": [
       "27707"
      ],
      "text/markdown": [
       "27707"
      ],
      "text/plain": [
       "[1] 27707"
      ]
     },
     "metadata": {},
     "output_type": "display_data"
    },
    {
     "name": "stdout",
     "output_type": "stream",
     "text": [
      "Number of test observations"
     ]
    },
    {
     "data": {
      "text/html": [
       "6927"
      ],
      "text/latex": [
       "6927"
      ],
      "text/markdown": [
       "6927"
      ],
      "text/plain": [
       "[1] 6927"
      ]
     },
     "metadata": {},
     "output_type": "display_data"
    }
   ],
   "source": [
    "cat(\"Number of train observations\")\n",
    "nrow(df_train)\n",
    "cat(\"Number of test observations\")\n",
    "nrow(df_test)"
   ]
  },
  {
   "cell_type": "markdown",
   "metadata": {},
   "source": [
    "Additionally, create a version of the dataset that includes transformation of the variables:\n",
    "- min-max transformation for the predictive variables (bioclims and y)\n",
    "- log transformation for the target (NPP)"
   ]
  },
  {
   "cell_type": "code",
   "execution_count": 19,
   "metadata": {},
   "outputs": [],
   "source": [
    "normalize_minmax <- function(x)\n",
    "{\n",
    "  return((x- min(x)) /(max(x)-min(x)))\n",
    "}"
   ]
  },
  {
   "cell_type": "code",
   "execution_count": 20,
   "metadata": {},
   "outputs": [],
   "source": [
    "df_modelo_norm <- df_modelo\n",
    "for(i in 1:ncol(df_modelo_norm)){\n",
    "  if(names(df_modelo_norm)[i] != \"NPP\"){\n",
    "    df_modelo_norm[,i] <- normalize_minmax(df_modelo_norm[,i])\n",
    "  } else{\n",
    "    df_modelo_norm[,i] <- log(df_modelo_norm[,i])\n",
    "  }\n",
    "}"
   ]
  },
  {
   "cell_type": "code",
   "execution_count": 21,
   "metadata": {},
   "outputs": [],
   "source": [
    "df_train_norm <- na.omit(df_modelo_norm[sample, ])\n",
    "df_test_norm  <- na.omit(df_modelo_norm[-sample, ])"
   ]
  },
  {
   "cell_type": "markdown",
   "metadata": {},
   "source": [
    "### Miami Model results\n",
    "\n",
    "Check the results obtained from the Miami Model as if it was an externally trained model (so everything is test)"
   ]
  },
  {
   "cell_type": "markdown",
   "metadata": {},
   "source": [
    "Load the data"
   ]
  },
  {
   "cell_type": "code",
   "execution_count": 22,
   "metadata": {},
   "outputs": [],
   "source": [
    "NPP_eval <- points_df %>% select(NPP, Miami_NPP) %>% filter(NPP > 5 & Miami_NPP > 5) %>% na.omit() \n",
    "\n"
   ]
  },
  {
   "cell_type": "markdown",
   "metadata": {},
   "source": [
    "Calculate PMAE and RMSE"
   ]
  },
  {
   "cell_type": "code",
   "execution_count": 23,
   "metadata": {},
   "outputs": [
    {
     "data": {
      "text/html": [
       "<table>\n",
       "<caption>A data.frame: 1 × 5</caption>\n",
       "<thead>\n",
       "\t<tr><th scope=col>Model</th><th scope=col>PMAE.Train</th><th scope=col>PMAE.Test</th><th scope=col>RMSE.Train</th><th scope=col>RMSE.Test</th></tr>\n",
       "\t<tr><th scope=col>&lt;fct&gt;</th><th scope=col>&lt;lgl&gt;</th><th scope=col>&lt;dbl&gt;</th><th scope=col>&lt;lgl&gt;</th><th scope=col>&lt;dbl&gt;</th></tr>\n",
       "</thead>\n",
       "<tbody>\n",
       "\t<tr><td>Miami model</td><td>NA</td><td>2.503517</td><td>NA</td><td>752.4965</td></tr>\n",
       "</tbody>\n",
       "</table>\n"
      ],
      "text/latex": [
       "A data.frame: 1 × 5\n",
       "\\begin{tabular}{r|lllll}\n",
       " Model & PMAE.Train & PMAE.Test & RMSE.Train & RMSE.Test\\\\\n",
       " <fct> & <lgl> & <dbl> & <lgl> & <dbl>\\\\\n",
       "\\hline\n",
       "\t Miami model & NA & 2.503517 & NA & 752.4965\\\\\n",
       "\\end{tabular}\n"
      ],
      "text/markdown": [
       "\n",
       "A data.frame: 1 × 5\n",
       "\n",
       "| Model &lt;fct&gt; | PMAE.Train &lt;lgl&gt; | PMAE.Test &lt;dbl&gt; | RMSE.Train &lt;lgl&gt; | RMSE.Test &lt;dbl&gt; |\n",
       "|---|---|---|---|---|\n",
       "| Miami model | NA | 2.503517 | NA | 752.4965 |\n",
       "\n"
      ],
      "text/plain": [
       "  Model       PMAE.Train PMAE.Test RMSE.Train RMSE.Test\n",
       "1 Miami model NA         2.503517  NA         752.4965 "
      ]
     },
     "metadata": {},
     "output_type": "display_data"
    }
   ],
   "source": [
    "results_miami <- data.frame(\"Model\"=\"Miami model\",\n",
    "                             \"PMAE Train\"=NA,\n",
    "                             \"PMAE Test\"=mean(abs(NPP_eval$NPP - NPP_eval$Miami_NPP)/NPP_eval$NPP),\n",
    "                             \"RMSE Train\"=NA,\n",
    "                             \"RMSE Test\"=sqrt(mean((NPP_eval$NPP - NPP_eval$Miami_NPP)^2)))\n",
    "results_miami"
   ]
  },
  {
   "cell_type": "markdown",
   "metadata": {},
   "source": [
    "### Naive model\n",
    "\n",
    "A model based on the median value of NPP as naive predictor"
   ]
  },
  {
   "cell_type": "code",
   "execution_count": 24,
   "metadata": {},
   "outputs": [
    {
     "data": {
      "text/html": [
       "<table>\n",
       "<caption>A data.frame: 1 × 5</caption>\n",
       "<thead>\n",
       "\t<tr><th scope=col>Model</th><th scope=col>PMAE.Train</th><th scope=col>PMAE.Test</th><th scope=col>RMSE.Train</th><th scope=col>RMSE.Test</th></tr>\n",
       "\t<tr><th scope=col>&lt;fct&gt;</th><th scope=col>&lt;dbl&gt;</th><th scope=col>&lt;dbl&gt;</th><th scope=col>&lt;dbl&gt;</th><th scope=col>&lt;dbl&gt;</th></tr>\n",
       "</thead>\n",
       "<tbody>\n",
       "\t<tr><td>Naive (median)</td><td>1.964358</td><td>1.964724</td><td>368.8422</td><td>369.6854</td></tr>\n",
       "</tbody>\n",
       "</table>\n"
      ],
      "text/latex": [
       "A data.frame: 1 × 5\n",
       "\\begin{tabular}{r|lllll}\n",
       " Model & PMAE.Train & PMAE.Test & RMSE.Train & RMSE.Test\\\\\n",
       " <fct> & <dbl> & <dbl> & <dbl> & <dbl>\\\\\n",
       "\\hline\n",
       "\t Naive (median) & 1.964358 & 1.964724 & 368.8422 & 369.6854\\\\\n",
       "\\end{tabular}\n"
      ],
      "text/markdown": [
       "\n",
       "A data.frame: 1 × 5\n",
       "\n",
       "| Model &lt;fct&gt; | PMAE.Train &lt;dbl&gt; | PMAE.Test &lt;dbl&gt; | RMSE.Train &lt;dbl&gt; | RMSE.Test &lt;dbl&gt; |\n",
       "|---|---|---|---|---|\n",
       "| Naive (median) | 1.964358 | 1.964724 | 368.8422 | 369.6854 |\n",
       "\n"
      ],
      "text/plain": [
       "  Model          PMAE.Train PMAE.Test RMSE.Train RMSE.Test\n",
       "1 Naive (median) 1.964358   1.964724  368.8422   369.6854 "
      ]
     },
     "metadata": {},
     "output_type": "display_data"
    }
   ],
   "source": [
    "results_median <- data.frame(\"Model\"=\"Naive (median)\",\n",
    "                          \"PMAE Train\"=mean(abs(df_train$NPP - median(df_train$NPP))/df_train$NPP),\n",
    "                          \"PMAE Test\"=mean(abs(df_test$NPP - median(df_test$NPP))/df_test$NPP),\n",
    "                          \"RMSE Train\"=sqrt(mean((df_train$NPP - median(df_train$NPP))^2)),\n",
    "                          \"RMSE Test\"=sqrt(mean((df_test$NPP - median(df_test$NPP))^2)))\n",
    "\n",
    "results_median\n"
   ]
  },
  {
   "cell_type": "markdown",
   "metadata": {},
   "source": [
    "### Linear model (1 variable)\n",
    "\n",
    "Linear model based on only the variable with the highest linear regression coefficient (bio_12)"
   ]
  },
  {
   "cell_type": "code",
   "execution_count": 25,
   "metadata": {},
   "outputs": [
    {
     "data": {
      "text/plain": [
       "\n",
       "Call:\n",
       "lm(formula = NPP ~ bio_12, data = df_train)\n",
       "\n",
       "Coefficients:\n",
       "(Intercept)       bio_12  \n",
       "   156.9056       0.3487  \n"
      ]
     },
     "metadata": {},
     "output_type": "display_data"
    }
   ],
   "source": [
    "reg_lm <- lm(NPP~bio_12, data=df_train)\n",
    "reg_lm\n"
   ]
  },
  {
   "cell_type": "code",
   "execution_count": 26,
   "metadata": {},
   "outputs": [
    {
     "data": {
      "text/html": [
       "<table>\n",
       "<caption>A data.frame: 1 × 5</caption>\n",
       "<thead>\n",
       "\t<tr><th scope=col>Model</th><th scope=col>PMAE.Train</th><th scope=col>PMAE.Test</th><th scope=col>RMSE.Train</th><th scope=col>RMSE.Test</th></tr>\n",
       "\t<tr><th scope=col>&lt;fct&gt;</th><th scope=col>&lt;dbl&gt;</th><th scope=col>&lt;dbl&gt;</th><th scope=col>&lt;dbl&gt;</th><th scope=col>&lt;dbl&gt;</th></tr>\n",
       "</thead>\n",
       "<tbody>\n",
       "\t<tr><td>LM (1 var)</td><td>1.196982</td><td>1.199671</td><td>248.2068</td><td>244.8694</td></tr>\n",
       "</tbody>\n",
       "</table>\n"
      ],
      "text/latex": [
       "A data.frame: 1 × 5\n",
       "\\begin{tabular}{r|lllll}\n",
       " Model & PMAE.Train & PMAE.Test & RMSE.Train & RMSE.Test\\\\\n",
       " <fct> & <dbl> & <dbl> & <dbl> & <dbl>\\\\\n",
       "\\hline\n",
       "\t LM (1 var) & 1.196982 & 1.199671 & 248.2068 & 244.8694\\\\\n",
       "\\end{tabular}\n"
      ],
      "text/markdown": [
       "\n",
       "A data.frame: 1 × 5\n",
       "\n",
       "| Model &lt;fct&gt; | PMAE.Train &lt;dbl&gt; | PMAE.Test &lt;dbl&gt; | RMSE.Train &lt;dbl&gt; | RMSE.Test &lt;dbl&gt; |\n",
       "|---|---|---|---|---|\n",
       "| LM (1 var) | 1.196982 | 1.199671 | 248.2068 | 244.8694 |\n",
       "\n"
      ],
      "text/plain": [
       "  Model      PMAE.Train PMAE.Test RMSE.Train RMSE.Test\n",
       "1 LM (1 var) 1.196982   1.199671  248.2068   244.8694 "
      ]
     },
     "metadata": {},
     "output_type": "display_data"
    }
   ],
   "source": [
    "results_lm <- data.frame(\"Model\"=\"LM (1 var)\",\n",
    "                          \"PMAE Train\"=mean(abs(df_train$NPP - predict(reg_lm, df_train))/df_train$NPP),\n",
    "                          \"PMAE Test\"=mean(abs(df_test$NPP - predict(reg_lm, df_test))/df_test$NPP),\n",
    "                         \"RMSE Train\"=sqrt(mean((df_train$NPP - predict(reg_lm, df_train))^2)),\n",
    "                         \"RMSE Test\"=sqrt(mean((df_test$NPP - predict(reg_lm, df_test))^2)))\n",
    "results_lm"
   ]
  },
  {
   "cell_type": "markdown",
   "metadata": {},
   "source": [
    "### Multivariate linear model  \n",
    "Linear model using all variables as predictors"
   ]
  },
  {
   "cell_type": "code",
   "execution_count": 27,
   "metadata": {},
   "outputs": [
    {
     "data": {
      "text/plain": [
       "\n",
       "Call:\n",
       "lm(formula = NPP ~ ., data = df_train)\n",
       "\n",
       "Coefficients:\n",
       "(Intercept)            y        bio_1       bio_10       bio_11       bio_12  \n",
       "   107.3771       4.2565      98.8147     -48.8998     -82.2022       0.2388  \n",
       "     bio_13       bio_14       bio_15       bio_16       bio_17       bio_18  \n",
       "    -0.6924      -3.2735      -2.0746       0.1588       0.4404       0.5106  \n",
       "     bio_19        bio_2        bio_3        bio_4        bio_5        bio_6  \n",
       "    -0.1293     -13.1613       7.9893      -0.4471      14.9561      19.3633  \n",
       "      bio_7        bio_8        bio_9  \n",
       "         NA      -1.7642      -2.1374  \n"
      ]
     },
     "metadata": {},
     "output_type": "display_data"
    }
   ],
   "source": [
    "reg_lm_mv <- lm(NPP~., data=df_train)\n",
    "reg_lm_mv"
   ]
  },
  {
   "cell_type": "code",
   "execution_count": 28,
   "metadata": {},
   "outputs": [
    {
     "name": "stderr",
     "output_type": "stream",
     "text": [
      "Warning message in predict.lm(reg_lm_mv, df_train):\n",
      "\"prediction from a rank-deficient fit may be misleading\"\n",
      "Warning message in predict.lm(reg_lm_mv, df_test):\n",
      "\"prediction from a rank-deficient fit may be misleading\"\n",
      "Warning message in predict.lm(reg_lm_mv, df_train):\n",
      "\"prediction from a rank-deficient fit may be misleading\"\n",
      "Warning message in predict.lm(reg_lm_mv, df_test):\n",
      "\"prediction from a rank-deficient fit may be misleading\"\n"
     ]
    },
    {
     "data": {
      "text/html": [
       "<table>\n",
       "<caption>A data.frame: 1 × 5</caption>\n",
       "<thead>\n",
       "\t<tr><th scope=col>Model</th><th scope=col>PMAE.Train</th><th scope=col>PMAE.Test</th><th scope=col>RMSE.Train</th><th scope=col>RMSE.Test</th></tr>\n",
       "\t<tr><th scope=col>&lt;fct&gt;</th><th scope=col>&lt;dbl&gt;</th><th scope=col>&lt;dbl&gt;</th><th scope=col>&lt;dbl&gt;</th><th scope=col>&lt;dbl&gt;</th></tr>\n",
       "</thead>\n",
       "<tbody>\n",
       "\t<tr><td>Multivar LM</td><td>0.8421816</td><td>0.8738457</td><td>211.9685</td><td>211.5147</td></tr>\n",
       "</tbody>\n",
       "</table>\n"
      ],
      "text/latex": [
       "A data.frame: 1 × 5\n",
       "\\begin{tabular}{r|lllll}\n",
       " Model & PMAE.Train & PMAE.Test & RMSE.Train & RMSE.Test\\\\\n",
       " <fct> & <dbl> & <dbl> & <dbl> & <dbl>\\\\\n",
       "\\hline\n",
       "\t Multivar LM & 0.8421816 & 0.8738457 & 211.9685 & 211.5147\\\\\n",
       "\\end{tabular}\n"
      ],
      "text/markdown": [
       "\n",
       "A data.frame: 1 × 5\n",
       "\n",
       "| Model &lt;fct&gt; | PMAE.Train &lt;dbl&gt; | PMAE.Test &lt;dbl&gt; | RMSE.Train &lt;dbl&gt; | RMSE.Test &lt;dbl&gt; |\n",
       "|---|---|---|---|---|\n",
       "| Multivar LM | 0.8421816 | 0.8738457 | 211.9685 | 211.5147 |\n",
       "\n"
      ],
      "text/plain": [
       "  Model       PMAE.Train PMAE.Test RMSE.Train RMSE.Test\n",
       "1 Multivar LM 0.8421816  0.8738457 211.9685   211.5147 "
      ]
     },
     "metadata": {},
     "output_type": "display_data"
    }
   ],
   "source": [
    "results_lm_mv <- data.frame(\"Model\"=\"Multivar LM\",\n",
    "                         \"PMAE Train\"=mean(abs(df_train$NPP - predict(reg_lm_mv, df_train))/df_train$NPP),\n",
    "                         \"PMAE Test\"=mean(abs(df_test$NPP - predict(reg_lm_mv, df_test))/df_test$NPP),\n",
    "                         \"RMSE Train\"=sqrt(mean((df_train$NPP - predict(reg_lm_mv, df_train))^2)),\n",
    "                         \"RMSE Test\"=sqrt(mean((df_test$NPP - predict(reg_lm_mv, df_test))^2)))\n",
    "results_lm_mv"
   ]
  },
  {
   "cell_type": "markdown",
   "metadata": {},
   "source": [
    "### Multivariate linear model with transformation\n",
    "Like the previous one, but using the transformed dataset"
   ]
  },
  {
   "cell_type": "code",
   "execution_count": 29,
   "metadata": {},
   "outputs": [
    {
     "data": {
      "text/plain": [
       "\n",
       "Call:\n",
       "lm(formula = NPP ~ ., data = df_train_norm)\n",
       "\n",
       "Coefficients:\n",
       "(Intercept)            y        bio_1       bio_10       bio_11       bio_12  \n",
       "    13.5326       1.2211      19.6264      -6.3201     -32.1239       3.0214  \n",
       "     bio_13       bio_14       bio_15       bio_16       bio_17       bio_18  \n",
       "    -1.8682      -0.8895      -2.2044       3.9456      -2.8338       4.0362  \n",
       "     bio_19        bio_2        bio_3        bio_4        bio_5        bio_6  \n",
       "    -0.5621      -0.7455       1.6001     -11.4786       6.3312       5.7200  \n",
       "      bio_7        bio_8        bio_9  \n",
       "         NA       0.5500      -1.3450  \n"
      ]
     },
     "metadata": {},
     "output_type": "display_data"
    }
   ],
   "source": [
    "reg_lm_mv_t <- lm(NPP~., data=df_train_norm)\n",
    "reg_lm_mv_t"
   ]
  },
  {
   "cell_type": "markdown",
   "metadata": {},
   "source": [
    "To be comparable, the prediction needs to reverse the logarithmic transformation (using 'exp')"
   ]
  },
  {
   "cell_type": "code",
   "execution_count": 30,
   "metadata": {},
   "outputs": [
    {
     "name": "stderr",
     "output_type": "stream",
     "text": [
      "Warning message in predict.lm(reg_lm_mv_t, df_train_norm):\n",
      "\"prediction from a rank-deficient fit may be misleading\"\n",
      "Warning message in predict.lm(reg_lm_mv_t, df_test_norm):\n",
      "\"prediction from a rank-deficient fit may be misleading\"\n",
      "Warning message in predict.lm(reg_lm_mv_t, df_train_norm):\n",
      "\"prediction from a rank-deficient fit may be misleading\"\n",
      "Warning message in predict.lm(reg_lm_mv_t, df_test_norm):\n",
      "\"prediction from a rank-deficient fit may be misleading\"\n"
     ]
    },
    {
     "data": {
      "text/html": [
       "<table>\n",
       "<caption>A data.frame: 1 × 5</caption>\n",
       "<thead>\n",
       "\t<tr><th scope=col>Model</th><th scope=col>PMAE.Train</th><th scope=col>PMAE.Test</th><th scope=col>RMSE.Train</th><th scope=col>RMSE.Test</th></tr>\n",
       "\t<tr><th scope=col>&lt;fct&gt;</th><th scope=col>&lt;dbl&gt;</th><th scope=col>&lt;dbl&gt;</th><th scope=col>&lt;dbl&gt;</th><th scope=col>&lt;dbl&gt;</th></tr>\n",
       "</thead>\n",
       "<tbody>\n",
       "\t<tr><td>Multivar LM (trans)</td><td>0.7439702</td><td>0.7645439</td><td>2095.676</td><td>674.0376</td></tr>\n",
       "</tbody>\n",
       "</table>\n"
      ],
      "text/latex": [
       "A data.frame: 1 × 5\n",
       "\\begin{tabular}{r|lllll}\n",
       " Model & PMAE.Train & PMAE.Test & RMSE.Train & RMSE.Test\\\\\n",
       " <fct> & <dbl> & <dbl> & <dbl> & <dbl>\\\\\n",
       "\\hline\n",
       "\t Multivar LM (trans) & 0.7439702 & 0.7645439 & 2095.676 & 674.0376\\\\\n",
       "\\end{tabular}\n"
      ],
      "text/markdown": [
       "\n",
       "A data.frame: 1 × 5\n",
       "\n",
       "| Model &lt;fct&gt; | PMAE.Train &lt;dbl&gt; | PMAE.Test &lt;dbl&gt; | RMSE.Train &lt;dbl&gt; | RMSE.Test &lt;dbl&gt; |\n",
       "|---|---|---|---|---|\n",
       "| Multivar LM (trans) | 0.7439702 | 0.7645439 | 2095.676 | 674.0376 |\n",
       "\n"
      ],
      "text/plain": [
       "  Model               PMAE.Train PMAE.Test RMSE.Train RMSE.Test\n",
       "1 Multivar LM (trans) 0.7439702  0.7645439 2095.676   674.0376 "
      ]
     },
     "metadata": {},
     "output_type": "display_data"
    }
   ],
   "source": [
    "results_lm_mv_t <- data.frame(\"Model\"=\"Multivar LM (trans)\",\n",
    "                            \"PMAE Train\"=mean(abs(df_train$NPP - exp(predict(reg_lm_mv_t, df_train_norm)))/df_train$NPP),\n",
    "                            \"PMAE Test\"=mean(abs(df_test$NPP - exp(predict(reg_lm_mv_t, df_test_norm)))/df_test$NPP),\n",
    "                            \"RMSE Train\"=sqrt(mean((df_train$NPP - exp(predict(reg_lm_mv_t, df_train_norm)))^2)),\n",
    "                            \"RMSE Test\"=sqrt(mean((df_test$NPP - exp(predict(reg_lm_mv_t, df_test_norm)))^2)))\n",
    "\n",
    "results_lm_mv_t"
   ]
  },
  {
   "cell_type": "markdown",
   "metadata": {},
   "source": [
    "**It's improving!!**  \n",
    "Ok, this is fun, let's go up a notch"
   ]
  },
  {
   "cell_type": "markdown",
   "metadata": {},
   "source": [
    "### K-nearest neighbours\n",
    "KNN model with tunning to find the best parameter for the number of neighbours, using 5-fold cross-validation."
   ]
  },
  {
   "cell_type": "code",
   "execution_count": 31,
   "metadata": {},
   "outputs": [],
   "source": [
    "reg_KNN <- caret::train(NPP~.,\n",
    "                 data = df_train,\n",
    "                 method = \"knn\",\n",
    "                 trControl = trainControl(method = \"repeatedcv\", number = 5, repeats=10), # Seleccionar metodo de resampling (#aqui: repeated 10-fold CV)\n",
    "                 tuneGrid = expand.grid(k = seq(2,10))) # Generar la malla de valores de parámetros para buscar optimo"
   ]
  },
  {
   "cell_type": "code",
   "execution_count": 32,
   "metadata": {},
   "outputs": [
    {
     "data": {
      "text/plain": [
       "k-Nearest Neighbors \n",
       "\n",
       "27707 samples\n",
       "   20 predictor\n",
       "\n",
       "No pre-processing\n",
       "Resampling: Cross-Validated (5 fold, repeated 10 times) \n",
       "Summary of sample sizes: 22166, 22164, 22165, 22167, 22166, 22165, ... \n",
       "Resampling results across tuning parameters:\n",
       "\n",
       "  k   RMSE      Rsquared   MAE     \n",
       "   2  153.9080  0.8214930  86.62361\n",
       "   3  150.6680  0.8272301  86.74555\n",
       "   4  150.6136  0.8266694  87.91382\n",
       "   5  151.2053  0.8250142  89.17854\n",
       "   6  152.0437  0.8229045  90.43932\n",
       "   7  152.9462  0.8206954  91.55682\n",
       "   8  153.9293  0.8183143  92.67658\n",
       "   9  154.8825  0.8160268  93.72972\n",
       "  10  155.7417  0.8139500  94.68217\n",
       "\n",
       "RMSE was used to select the optimal model using the smallest value.\n",
       "The final value used for the model was k = 4."
      ]
     },
     "metadata": {},
     "output_type": "display_data"
    },
    {
     "data": {
      "image/png": "[encoded data removed]",
      "text/plain": [
       "plot without title"
      ]
     },
     "metadata": {
      "image/png": {
       "height": 420,
       "width": 420
      },
      "text/plain": {
       "height": 420,
       "width": 420
      }
     },
     "output_type": "display_data"
    }
   ],
   "source": [
    "reg_KNN\n",
    "plot(reg_KNN)"
   ]
  },
  {
   "cell_type": "code",
   "execution_count": 33,
   "metadata": {},
   "outputs": [
    {
     "data": {
      "text/html": [
       "<table>\n",
       "<caption>A data.frame: 1 × 5</caption>\n",
       "<thead>\n",
       "\t<tr><th scope=col>Model</th><th scope=col>PMAE.Train</th><th scope=col>PMAE.Test</th><th scope=col>RMSE.Train</th><th scope=col>RMSE.Test</th></tr>\n",
       "\t<tr><th scope=col>&lt;fct&gt;</th><th scope=col>&lt;dbl&gt;</th><th scope=col>&lt;dbl&gt;</th><th scope=col>&lt;dbl&gt;</th><th scope=col>&lt;dbl&gt;</th></tr>\n",
       "</thead>\n",
       "<tbody>\n",
       "\t<tr><td>KNN</td><td>0.2476266</td><td>0.3497608</td><td>109.164</td><td>142.9929</td></tr>\n",
       "</tbody>\n",
       "</table>\n"
      ],
      "text/latex": [
       "A data.frame: 1 × 5\n",
       "\\begin{tabular}{r|lllll}\n",
       " Model & PMAE.Train & PMAE.Test & RMSE.Train & RMSE.Test\\\\\n",
       " <fct> & <dbl> & <dbl> & <dbl> & <dbl>\\\\\n",
       "\\hline\n",
       "\t KNN & 0.2476266 & 0.3497608 & 109.164 & 142.9929\\\\\n",
       "\\end{tabular}\n"
      ],
      "text/markdown": [
       "\n",
       "A data.frame: 1 × 5\n",
       "\n",
       "| Model &lt;fct&gt; | PMAE.Train &lt;dbl&gt; | PMAE.Test &lt;dbl&gt; | RMSE.Train &lt;dbl&gt; | RMSE.Test &lt;dbl&gt; |\n",
       "|---|---|---|---|---|\n",
       "| KNN | 0.2476266 | 0.3497608 | 109.164 | 142.9929 |\n",
       "\n"
      ],
      "text/plain": [
       "  Model PMAE.Train PMAE.Test RMSE.Train RMSE.Test\n",
       "1 KNN   0.2476266  0.3497608 109.164    142.9929 "
      ]
     },
     "metadata": {},
     "output_type": "display_data"
    }
   ],
   "source": [
    "results_KNN <- data.frame(\"Model\"=\"KNN\",\n",
    "                          \"PMAE Train\"=mean(abs(df_train$NPP - predict(reg_KNN, df_train))/df_train$NPP),\n",
    "                          \"PMAE Test\"=mean(abs(df_test$NPP - predict(reg_KNN, df_test))/df_test$NPP),\n",
    "                          \"RMSE Train\"=sqrt(mean((df_train$NPP - predict(reg_KNN, df_train))^2)),\n",
    "                          \"RMSE Test\"=sqrt(mean((df_test$NPP - predict(reg_KNN, df_test))^2)))\n",
    "results_KNN"
   ]
  },
  {
   "cell_type": "markdown",
   "metadata": {},
   "source": [
    "### K-nearest neighbours w/ transformation\n",
    "Same process as before, but using the transformed dataset to keep all predictive variables in the same scale, and smooth the extreme differences between high and low values of NPP."
   ]
  },
  {
   "cell_type": "code",
   "execution_count": 34,
   "metadata": {},
   "outputs": [
    {
     "name": "stderr",
     "output_type": "stream",
     "text": [
      "Loading required namespace: parallel\n",
      "\n",
      "12 cores detected, using 11\n",
      "\n"
     ]
    }
   ],
   "source": [
    "beginCluster()\n",
    "reg_KNN_norm <- train(NPP~.,\n",
    "                 data = df_train_norm,\n",
    "                 method = \"knn\",\n",
    "                 trControl = trainControl(method = \"repeatedcv\", number = 5, repeats=10), # Seleccionar metodo de resampling (#aqui: repeated 10-fold CV)\n",
    "                 tuneGrid = expand.grid(k = seq(2,10))) # Generar la malla de valores de parámetros para buscar optimo\n",
    "endCluster()"
   ]
  },
  {
   "cell_type": "code",
   "execution_count": 35,
   "metadata": {},
   "outputs": [
    {
     "data": {
      "text/plain": [
       "k-Nearest Neighbors \n",
       "\n",
       "27707 samples\n",
       "   20 predictor\n",
       "\n",
       "No pre-processing\n",
       "Resampling: Cross-Validated (5 fold, repeated 10 times) \n",
       "Summary of sample sizes: 22165, 22166, 22165, 22166, 22166, 22166, ... \n",
       "Resampling results across tuning parameters:\n",
       "\n",
       "  k   RMSE       Rsquared   MAE      \n",
       "   2  0.2763936  0.9281942  0.1648669\n",
       "   3  0.2722279  0.9301579  0.1646915\n",
       "   4  0.2734142  0.9295077  0.1670049\n",
       "   5  0.2752857  0.9285535  0.1693448\n",
       "   6  0.2777120  0.9273229  0.1718892\n",
       "   7  0.2804862  0.9259053  0.1745591\n",
       "   8  0.2831943  0.9245090  0.1769541\n",
       "   9  0.2859873  0.9230522  0.1793066\n",
       "  10  0.2886505  0.9216627  0.1815714\n",
       "\n",
       "RMSE was used to select the optimal model using the smallest value.\n",
       "The final value used for the model was k = 3."
      ]
     },
     "metadata": {},
     "output_type": "display_data"
    },
    {
     "data": {
      "image/png": "[encoded data removed]",
      "text/plain": [
       "plot without title"
      ]
     },
     "metadata": {
      "image/png": {
       "height": 420,
       "width": 420
      },
      "text/plain": {
       "height": 420,
       "width": 420
      }
     },
     "output_type": "display_data"
    }
   ],
   "source": [
    "reg_KNN_norm\n",
    "plot(reg_KNN_norm)"
   ]
  },
  {
   "cell_type": "markdown",
   "metadata": {},
   "source": [
    "To be comparable, the prediction needs to reverse the logarithmic transformation (using 'exp')"
   ]
  },
  {
   "cell_type": "code",
   "execution_count": 37,
   "metadata": {},
   "outputs": [],
   "source": [
    "pred_log_train <- exp(predict(reg_KNN_norm, df_train_norm))\n",
    "pred_log_test <- exp(predict(reg_KNN_norm, df_test_norm))"
   ]
  },
  {
   "cell_type": "code",
   "execution_count": 38,
   "metadata": {},
   "outputs": [
    {
     "data": {
      "text/html": [
       "<table>\n",
       "<caption>A data.frame: 1 × 5</caption>\n",
       "<thead>\n",
       "\t<tr><th scope=col>Model</th><th scope=col>PMAE.Train</th><th scope=col>PMAE.Test</th><th scope=col>RMSE.Train</th><th scope=col>RMSE.Test</th></tr>\n",
       "\t<tr><th scope=col>&lt;fct&gt;</th><th scope=col>&lt;dbl&gt;</th><th scope=col>&lt;dbl&gt;</th><th scope=col>&lt;dbl&gt;</th><th scope=col>&lt;dbl&gt;</th></tr>\n",
       "</thead>\n",
       "<tbody>\n",
       "\t<tr><td>KNN transformed</td><td>0.1110015</td><td>0.1764586</td><td>69.5238</td><td>100.5477</td></tr>\n",
       "</tbody>\n",
       "</table>\n"
      ],
      "text/latex": [
       "A data.frame: 1 × 5\n",
       "\\begin{tabular}{r|lllll}\n",
       " Model & PMAE.Train & PMAE.Test & RMSE.Train & RMSE.Test\\\\\n",
       " <fct> & <dbl> & <dbl> & <dbl> & <dbl>\\\\\n",
       "\\hline\n",
       "\t KNN transformed & 0.1110015 & 0.1764586 & 69.5238 & 100.5477\\\\\n",
       "\\end{tabular}\n"
      ],
      "text/markdown": [
       "\n",
       "A data.frame: 1 × 5\n",
       "\n",
       "| Model &lt;fct&gt; | PMAE.Train &lt;dbl&gt; | PMAE.Test &lt;dbl&gt; | RMSE.Train &lt;dbl&gt; | RMSE.Test &lt;dbl&gt; |\n",
       "|---|---|---|---|---|\n",
       "| KNN transformed | 0.1110015 | 0.1764586 | 69.5238 | 100.5477 |\n",
       "\n"
      ],
      "text/plain": [
       "  Model           PMAE.Train PMAE.Test RMSE.Train RMSE.Test\n",
       "1 KNN transformed 0.1110015  0.1764586 69.5238    100.5477 "
      ]
     },
     "metadata": {},
     "output_type": "display_data"
    }
   ],
   "source": [
    "results_KNN_trans <- data.frame(\"Model\"=\"KNN transformed\",\n",
    "                          \"PMAE Train\"=mean(abs(df_train$NPP - pred_log_train)/df_train$NPP),\n",
    "                          \"PMAE Test\"=mean(abs(df_test$NPP - pred_log_test)/df_test$NPP),\n",
    "                          \"RMSE Train\"=sqrt(mean((df_train$NPP - pred_log_train)^2)),\n",
    "                          \"RMSE Test\"=sqrt(mean((df_test$NPP - pred_log_test)^2)))\n",
    "results_KNN_trans"
   ]
  },
  {
   "cell_type": "code",
   "execution_count": null,
   "metadata": {},
   "outputs": [],
   "source": [
    "#Save the model as RDS file\n",
    "saveRDS(reg_KNN_norm, file.path(path_models, \"KNN_norm_train_35k.rds\"))"
   ]
  },
  {
   "cell_type": "markdown",
   "metadata": {},
   "source": [
    "### Decision Tree regression\n",
    "Regression tree using cross validation to find the best tune for the complexity parameter (influences the overall size of the tree)"
   ]
  },
  {
   "cell_type": "code",
   "execution_count": 39,
   "metadata": {},
   "outputs": [
    {
     "name": "stderr",
     "output_type": "stream",
     "text": [
      "Warning message in nominalTrainWorkflow(x = x, y = y, wts = weights, info = trainInfo, :\n",
      "\"There were missing values in resampled performance measures.\"\n"
     ]
    }
   ],
   "source": [
    "reg_tree <- train(NPP~., data = df_train,\n",
    "                  method = \"rpart\",\n",
    "                  trControl = trainControl(\"cv\", number = 20),\n",
    "                  tuneLength = 50)"
   ]
  },
  {
   "cell_type": "code",
   "execution_count": 40,
   "metadata": {},
   "outputs": [
    {
     "data": {
      "text/plain": [
       "CART \n",
       "\n",
       "27707 samples\n",
       "   20 predictor\n",
       "\n",
       "No pre-processing\n",
       "Resampling: Cross-Validated (20 fold) \n",
       "Summary of sample sizes: 26323, 26321, 26319, 26321, 26322, 26322, ... \n",
       "Resampling results across tuning parameters:\n",
       "\n",
       "  cp            RMSE      Rsquared   MAE     \n",
       "  0.0008701973  159.6264  0.8046855  108.9782\n",
       "  0.0008797742  159.7770  0.8043364  109.1336\n",
       "  0.0008919412  159.9291  0.8039610  109.2934\n",
       "  0.0009013783  159.9895  0.8038044  109.3682\n",
       "  0.0009123753  160.2794  0.8030924  109.6282\n",
       "  0.0009144390  160.3795  0.8028512  109.7030\n",
       "  0.0009165385  160.4646  0.8026379  109.7883\n",
       "  0.0009265886  160.5869  0.8023405  109.9156\n",
       "  0.0009696587  161.4655  0.8001144  110.8031\n",
       "  0.0010086241  161.9471  0.7989315  111.2372\n",
       "  0.0010302302  162.3311  0.7980048  111.5639\n",
       "  0.0010933112  163.1123  0.7960467  112.2253\n",
       "  0.0011532614  163.9532  0.7939642  113.0377\n",
       "  0.0012513280  164.7413  0.7919536  113.7801\n",
       "  0.0012568753  164.7715  0.7918735  113.7795\n",
       "  0.0012685646  164.9893  0.7913344  113.9973\n",
       "  0.0013261351  165.8999  0.7890050  114.9515\n",
       "  0.0013461331  165.9469  0.7888808  115.0184\n",
       "  0.0013943115  166.5198  0.7874277  115.3972\n",
       "  0.0014340236  166.8693  0.7865195  115.7052\n",
       "  0.0015067840  167.6494  0.7844853  116.7339\n",
       "  0.0015302987  167.9537  0.7836988  116.9754\n",
       "  0.0016852107  169.0931  0.7807541  117.8544\n",
       "  0.0018624251  169.7032  0.7791489  118.2888\n",
       "  0.0019200482  169.8815  0.7786805  118.3709\n",
       "  0.0021853299  170.8139  0.7762412  118.8941\n",
       "  0.0023478707  171.9539  0.7732515  119.5285\n",
       "  0.0024554383  172.8026  0.7710009  120.2230\n",
       "  0.0025293814  173.5506  0.7690277  120.7174\n",
       "  0.0026316342  174.2907  0.7670968  121.1731\n",
       "  0.0028486018  175.0093  0.7651509  121.6497\n",
       "  0.0030327350  175.6705  0.7633552  122.3369\n",
       "  0.0033701528  177.0437  0.7596425  123.9108\n",
       "  0.0036329097  178.3997  0.7559740  125.0350\n",
       "  0.0038539374  180.5550  0.7499684  126.2889\n",
       "  0.0039694172  181.2667  0.7480041  126.6550\n",
       "  0.0039778463  181.3450  0.7477976  126.7721\n",
       "  0.0042234514  182.5397  0.7444616  127.9411\n",
       "  0.0048118444  184.7073  0.7383995  129.7439\n",
       "  0.0062050898  189.1101  0.7258420  131.6244\n",
       "  0.0072643559  191.8204  0.7179345  133.2385\n",
       "  0.0089562529  196.2399  0.7046833  137.6824\n",
       "  0.0092713293  198.1038  0.6990271  140.3078\n",
       "  0.0135371065  202.9780  0.6839103  144.3628\n",
       "  0.0145401125  205.3232  0.6765508  145.8139\n",
       "  0.0180224262  213.3414  0.6506060  152.4286\n",
       "  0.0449522052  225.8784  0.6083564  161.9834\n",
       "  0.0535888218  240.1249  0.5573760  171.5061\n",
       "  0.0743214349  256.3196  0.4952406  189.0911\n",
       "  0.4640466525  314.3286  0.4492790  245.7534\n",
       "\n",
       "RMSE was used to select the optimal model using the smallest value.\n",
       "The final value used for the model was cp = 0.0008701973."
      ]
     },
     "metadata": {},
     "output_type": "display_data"
    },
    {
     "data": {
      "image/png": "[encoded data removed]",
      "text/plain": [
       "plot without title"
      ]
     },
     "metadata": {
      "image/png": {
       "height": 420,
       "width": 420
      },
      "text/plain": {
       "height": 420,
       "width": 420
      }
     },
     "output_type": "display_data"
    }
   ],
   "source": [
    "reg_tree\n",
    "plot(reg_tree)"
   ]
  },
  {
   "cell_type": "code",
   "execution_count": 45,
   "metadata": {},
   "outputs": [
    {
     "data": {
      "image/png": "[encoded data removed]",
      "text/plain": [
       "plot without title"
      ]
     },
     "metadata": {
      "image/png": {
       "height": 900,
       "width": 1500
      },
      "text/plain": {
       "height": 900,
       "width": 1500
      }
     },
     "output_type": "display_data"
    }
   ],
   "source": [
    "options(repr.plot.width = 25, repr.plot.height = 15)\n",
    "plot(reg_tree$finalModel)\n",
    "text(reg_tree$finalModel, use.n=TRUE, all=TRUE, cex=.7)"
   ]
  },
  {
   "cell_type": "markdown",
   "metadata": {},
   "source": [
    "I know, the visualization is not great"
   ]
  },
  {
   "cell_type": "code",
   "execution_count": 42,
   "metadata": {},
   "outputs": [
    {
     "data": {
      "text/html": [
       "<table>\n",
       "<caption>A data.frame: 1 × 5</caption>\n",
       "<thead>\n",
       "\t<tr><th scope=col>Model</th><th scope=col>PMAE.Train</th><th scope=col>PMAE.Test</th><th scope=col>RMSE.Train</th><th scope=col>RMSE.Test</th></tr>\n",
       "\t<tr><th scope=col>&lt;fct&gt;</th><th scope=col>&lt;dbl&gt;</th><th scope=col>&lt;dbl&gt;</th><th scope=col>&lt;dbl&gt;</th><th scope=col>&lt;dbl&gt;</th></tr>\n",
       "</thead>\n",
       "<tbody>\n",
       "\t<tr><td>Regression Tree</td><td>0.492976</td><td>0.5328042</td><td>151.7777</td><td>162.1575</td></tr>\n",
       "</tbody>\n",
       "</table>\n"
      ],
      "text/latex": [
       "A data.frame: 1 × 5\n",
       "\\begin{tabular}{r|lllll}\n",
       " Model & PMAE.Train & PMAE.Test & RMSE.Train & RMSE.Test\\\\\n",
       " <fct> & <dbl> & <dbl> & <dbl> & <dbl>\\\\\n",
       "\\hline\n",
       "\t Regression Tree & 0.492976 & 0.5328042 & 151.7777 & 162.1575\\\\\n",
       "\\end{tabular}\n"
      ],
      "text/markdown": [
       "\n",
       "A data.frame: 1 × 5\n",
       "\n",
       "| Model &lt;fct&gt; | PMAE.Train &lt;dbl&gt; | PMAE.Test &lt;dbl&gt; | RMSE.Train &lt;dbl&gt; | RMSE.Test &lt;dbl&gt; |\n",
       "|---|---|---|---|---|\n",
       "| Regression Tree | 0.492976 | 0.5328042 | 151.7777 | 162.1575 |\n",
       "\n"
      ],
      "text/plain": [
       "  Model           PMAE.Train PMAE.Test RMSE.Train RMSE.Test\n",
       "1 Regression Tree 0.492976   0.5328042 151.7777   162.1575 "
      ]
     },
     "metadata": {},
     "output_type": "display_data"
    }
   ],
   "source": [
    "results_tree_car <- data.frame(\"Model\"=\"Regression Tree\",\n",
    "                          \"PMAE Train\"=mean(abs(df_train$NPP - predict(reg_tree, df_train))/df_train$NPP),\n",
    "                          \"PMAE Test\"=mean(abs(df_test$NPP - predict(reg_tree, df_test))/df_test$NPP),\n",
    "                          \"RMSE Train\"=sqrt(mean((df_train$NPP - predict(reg_tree, df_train))^2)),\n",
    "                          \"RMSE Test\"=sqrt(mean((df_test$NPP - predict(reg_tree, df_test))^2)))\n",
    "results_tree_car"
   ]
  },
  {
   "cell_type": "code",
   "execution_count": null,
   "metadata": {},
   "outputs": [],
   "source": [
    "#Save model as RDS file\n",
    "saveRDS(reg_tree, file.path(path_models, \"TREE_train_35k.rds\"))"
   ]
  },
  {
   "cell_type": "markdown",
   "metadata": {},
   "source": [
    "### Random Forest\n",
    "Random forest regression, with previous search for the best _mtry_ parameter that determines the ammount of variables to be randomly sampled in each split"
   ]
  },
  {
   "cell_type": "code",
   "execution_count": null,
   "metadata": {},
   "outputs": [],
   "source": [
    "set.seed(seed)\n",
    "bestmtry <- tuneRF(df_train[,!names(df_train)==\"NPP\"], df_train$NPP, stepFactor=1.5, improve=1e-5, ntree=500)\n",
    "print(bestmtry)"
   ]
  },
  {
   "cell_type": "markdown",
   "metadata": {},
   "source": [
    "Spoiler: the result is 7"
   ]
  },
  {
   "cell_type": "code",
   "execution_count": 46,
   "metadata": {},
   "outputs": [
    {
     "name": "stderr",
     "output_type": "stream",
     "text": [
      "12 cores detected, using 11\n",
      "\n"
     ]
    },
    {
     "data": {
      "text/plain": [
       "\n",
       "Call:\n",
       " randomForest(formula = NPP ~ ., data = df_train, mtry = 7) \n",
       "               Type of random forest: regression\n",
       "                     Number of trees: 500\n",
       "No. of variables tried at each split: 7\n",
       "\n",
       "          Mean of squared residuals: 9720.151\n",
       "                    % Var explained: 92.54"
      ]
     },
     "metadata": {},
     "output_type": "display_data"
    }
   ],
   "source": [
    "beginCluster()\n",
    "reg_rf_tune <- randomForest(NPP~., data=df_train, mtry=7)\n",
    "reg_rf_tune\n",
    "endCluster()"
   ]
  },
  {
   "cell_type": "code",
   "execution_count": 47,
   "metadata": {},
   "outputs": [
    {
     "data": {
      "text/html": [
       "<table>\n",
       "<caption>A data.frame: 1 × 5</caption>\n",
       "<thead>\n",
       "\t<tr><th scope=col>Model</th><th scope=col>PMAE.Train</th><th scope=col>PMAE.Test</th><th scope=col>RMSE.Train</th><th scope=col>RMSE.Test</th></tr>\n",
       "\t<tr><th scope=col>&lt;fct&gt;</th><th scope=col>&lt;dbl&gt;</th><th scope=col>&lt;dbl&gt;</th><th scope=col>&lt;dbl&gt;</th><th scope=col>&lt;dbl&gt;</th></tr>\n",
       "</thead>\n",
       "<tbody>\n",
       "\t<tr><td>RandomForest with tunning</td><td>0.08289495</td><td>0.2080613</td><td>40.94156</td><td>99.35309</td></tr>\n",
       "</tbody>\n",
       "</table>\n"
      ],
      "text/latex": [
       "A data.frame: 1 × 5\n",
       "\\begin{tabular}{r|lllll}\n",
       " Model & PMAE.Train & PMAE.Test & RMSE.Train & RMSE.Test\\\\\n",
       " <fct> & <dbl> & <dbl> & <dbl> & <dbl>\\\\\n",
       "\\hline\n",
       "\t RandomForest with tunning & 0.08289495 & 0.2080613 & 40.94156 & 99.35309\\\\\n",
       "\\end{tabular}\n"
      ],
      "text/markdown": [
       "\n",
       "A data.frame: 1 × 5\n",
       "\n",
       "| Model &lt;fct&gt; | PMAE.Train &lt;dbl&gt; | PMAE.Test &lt;dbl&gt; | RMSE.Train &lt;dbl&gt; | RMSE.Test &lt;dbl&gt; |\n",
       "|---|---|---|---|---|\n",
       "| RandomForest with tunning | 0.08289495 | 0.2080613 | 40.94156 | 99.35309 |\n",
       "\n"
      ],
      "text/plain": [
       "  Model                     PMAE.Train PMAE.Test RMSE.Train RMSE.Test\n",
       "1 RandomForest with tunning 0.08289495 0.2080613 40.94156   99.35309 "
      ]
     },
     "metadata": {},
     "output_type": "display_data"
    }
   ],
   "source": [
    "results_tree_rf_tune <- data.frame(\"Model\"=\"RandomForest with tunning\",\n",
    "                              \"PMAE Train\"=mean(abs(df_train$NPP - predict(reg_rf_tune, df_train))/df_train$NPP),\n",
    "                              \"PMAE Test\"=mean(abs(df_test$NPP - predict(reg_rf_tune, df_test))/df_test$NPP),\n",
    "                              \"RMSE Train\"=sqrt(mean((df_train$NPP - predict(reg_rf_tune, df_train))^2)),\n",
    "                              \"RMSE Test\"=sqrt(mean((df_test$NPP - predict(reg_rf_tune, df_test))^2)))\n",
    "\n",
    "results_tree_rf_tune"
   ]
  },
  {
   "cell_type": "code",
   "execution_count": null,
   "metadata": {},
   "outputs": [],
   "source": [
    "#Save the model as RDS file\n",
    "saveRDS(reg_rf_tune, file.path(path_models, \"RF_train_tune_35k.rds\"))"
   ]
  },
  {
   "cell_type": "markdown",
   "metadata": {},
   "source": [
    "## Compare metrics\n",
    "\n",
    "Time to combine the metrics from all of the models and evaluate them altogether."
   ]
  },
  {
   "cell_type": "code",
   "execution_count": 48,
   "metadata": {},
   "outputs": [
    {
     "data": {
      "text/html": [
       "<table>\n",
       "<caption>A data.frame: 9 × 5</caption>\n",
       "<thead>\n",
       "\t<tr><th scope=col>Model</th><th scope=col>PMAE.Train</th><th scope=col>PMAE.Test</th><th scope=col>RMSE.Train</th><th scope=col>RMSE.Test</th></tr>\n",
       "\t<tr><th scope=col>&lt;fct&gt;</th><th scope=col>&lt;dbl&gt;</th><th scope=col>&lt;dbl&gt;</th><th scope=col>&lt;dbl&gt;</th><th scope=col>&lt;dbl&gt;</th></tr>\n",
       "</thead>\n",
       "<tbody>\n",
       "\t<tr><td>Miami model              </td><td>        NA</td><td>2.5035168</td><td>        NA</td><td>752.49647</td></tr>\n",
       "\t<tr><td>Naive (median)           </td><td>1.96435790</td><td>1.9647244</td><td> 368.84219</td><td>369.68542</td></tr>\n",
       "\t<tr><td>LM (1 var)               </td><td>1.19698171</td><td>1.1996709</td><td> 248.20682</td><td>244.86940</td></tr>\n",
       "\t<tr><td>Multivar LM              </td><td>0.84218158</td><td>0.8738457</td><td> 211.96854</td><td>211.51472</td></tr>\n",
       "\t<tr><td>Multivar LM (trans)      </td><td>0.74397024</td><td>0.7645439</td><td>2095.67569</td><td>674.03760</td></tr>\n",
       "\t<tr><td>KNN                      </td><td>0.24762662</td><td>0.3497608</td><td> 109.16401</td><td>142.99285</td></tr>\n",
       "\t<tr><td>KNN transformed          </td><td>0.11100154</td><td>0.1764586</td><td>  69.52380</td><td>100.54772</td></tr>\n",
       "\t<tr><td>Regression Tree          </td><td>0.49297604</td><td>0.5328042</td><td> 151.77770</td><td>162.15745</td></tr>\n",
       "\t<tr><td>RandomForest with tunning</td><td>0.08289495</td><td>0.2080613</td><td>  40.94156</td><td> 99.35309</td></tr>\n",
       "</tbody>\n",
       "</table>\n"
      ],
      "text/latex": [
       "A data.frame: 9 × 5\n",
       "\\begin{tabular}{r|lllll}\n",
       " Model & PMAE.Train & PMAE.Test & RMSE.Train & RMSE.Test\\\\\n",
       " <fct> & <dbl> & <dbl> & <dbl> & <dbl>\\\\\n",
       "\\hline\n",
       "\t Miami model               &         NA & 2.5035168 &         NA & 752.49647\\\\\n",
       "\t Naive (median)            & 1.96435790 & 1.9647244 &  368.84219 & 369.68542\\\\\n",
       "\t LM (1 var)                & 1.19698171 & 1.1996709 &  248.20682 & 244.86940\\\\\n",
       "\t Multivar LM               & 0.84218158 & 0.8738457 &  211.96854 & 211.51472\\\\\n",
       "\t Multivar LM (trans)       & 0.74397024 & 0.7645439 & 2095.67569 & 674.03760\\\\\n",
       "\t KNN                       & 0.24762662 & 0.3497608 &  109.16401 & 142.99285\\\\\n",
       "\t KNN transformed           & 0.11100154 & 0.1764586 &   69.52380 & 100.54772\\\\\n",
       "\t Regression Tree           & 0.49297604 & 0.5328042 &  151.77770 & 162.15745\\\\\n",
       "\t RandomForest with tunning & 0.08289495 & 0.2080613 &   40.94156 &  99.35309\\\\\n",
       "\\end{tabular}\n"
      ],
      "text/markdown": [
       "\n",
       "A data.frame: 9 × 5\n",
       "\n",
       "| Model &lt;fct&gt; | PMAE.Train &lt;dbl&gt; | PMAE.Test &lt;dbl&gt; | RMSE.Train &lt;dbl&gt; | RMSE.Test &lt;dbl&gt; |\n",
       "|---|---|---|---|---|\n",
       "| Miami model               |         NA | 2.5035168 |         NA | 752.49647 |\n",
       "| Naive (median)            | 1.96435790 | 1.9647244 |  368.84219 | 369.68542 |\n",
       "| LM (1 var)                | 1.19698171 | 1.1996709 |  248.20682 | 244.86940 |\n",
       "| Multivar LM               | 0.84218158 | 0.8738457 |  211.96854 | 211.51472 |\n",
       "| Multivar LM (trans)       | 0.74397024 | 0.7645439 | 2095.67569 | 674.03760 |\n",
       "| KNN                       | 0.24762662 | 0.3497608 |  109.16401 | 142.99285 |\n",
       "| KNN transformed           | 0.11100154 | 0.1764586 |   69.52380 | 100.54772 |\n",
       "| Regression Tree           | 0.49297604 | 0.5328042 |  151.77770 | 162.15745 |\n",
       "| RandomForest with tunning | 0.08289495 | 0.2080613 |   40.94156 |  99.35309 |\n",
       "\n"
      ],
      "text/plain": [
       "  Model                     PMAE.Train PMAE.Test RMSE.Train RMSE.Test\n",
       "1 Miami model                       NA 2.5035168         NA 752.49647\n",
       "2 Naive (median)            1.96435790 1.9647244  368.84219 369.68542\n",
       "3 LM (1 var)                1.19698171 1.1996709  248.20682 244.86940\n",
       "4 Multivar LM               0.84218158 0.8738457  211.96854 211.51472\n",
       "5 Multivar LM (trans)       0.74397024 0.7645439 2095.67569 674.03760\n",
       "6 KNN                       0.24762662 0.3497608  109.16401 142.99285\n",
       "7 KNN transformed           0.11100154 0.1764586   69.52380 100.54772\n",
       "8 Regression Tree           0.49297604 0.5328042  151.77770 162.15745\n",
       "9 RandomForest with tunning 0.08289495 0.2080613   40.94156  99.35309"
      ]
     },
     "metadata": {},
     "output_type": "display_data"
    }
   ],
   "source": [
    "all_results <- rbind(results_miami,\n",
    "                     results_median,\n",
    "                     results_lm,\n",
    "                     results_lm_mv,\n",
    "                     results_lm_mv_t,\n",
    "                     results_KNN,\n",
    "                     results_KNN_trans,\n",
    "                     results_tree_car,\n",
    "                     results_tree_rf_tune)\n",
    "all_results"
   ]
  },
  {
   "cell_type": "code",
   "execution_count": 49,
   "metadata": {},
   "outputs": [],
   "source": [
    "#Save the results as csv\n",
    "write.csv(all_results, file.path(path_models, \"Summary_all_models_metrics_35k.csv\"))"
   ]
  },
  {
   "cell_type": "markdown",
   "metadata": {},
   "source": [
    "There is a progressive improvement on the metrics of the models, reaching promising values.  \n",
    "  \n",
    "However, all models have one thing in common: **overfitting**.  \n",
    "In most of the models, the values of the metrics in test increase compared to the results from train, which is probably indicating an overfitting of the models to the train data. This is likely because there is so much variation in NPP values due to natural causes (not necessarily climate-driven), that every model triest to fit it as best as it can to the train data, but the test data always introduces new noise.  \n",
    "In previous iterations of this project (results not shown), studying a smaller area (the Iberian Peninsula and surroundings), the sampling captured most of the surface and not only did the models returned even better metrics, but also the overfitting (as difference between train and test metrics) decreased. \n",
    "\n",
    "  \n",
    "Nevertheless, the results from the **KNN (transformed)** and **Random Forest** models are the most accurate to the real data, and will be used to compare predictions on map data."
   ]
  }
 ],
 "metadata": {
  "kernelspec": {
   "display_name": "R",
   "language": "R",
   "name": "ir"
  },
  "language_info": {
   "codemirror_mode": "r",
   "file_extension": ".r",
   "mimetype": "text/x-r-source",
   "name": "R",
   "pygments_lexer": "r",
   "version": "3.5.2"
  }
 },
 "nbformat": 4,
 "nbformat_minor": 2
}
